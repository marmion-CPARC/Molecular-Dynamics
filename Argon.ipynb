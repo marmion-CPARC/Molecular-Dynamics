{
 "cells": [
  {
   "cell_type": "code",
   "execution_count": 1,
   "metadata": {},
   "outputs": [],
   "source": [
    "import hoomd\n",
    "import hoomd.md"
   ]
  },
  {
   "cell_type": "markdown",
   "metadata": {},
   "source": [
    "hoomd.context.initialize(\"\");"
   ]
  },
  {
   "cell_type": "code",
   "execution_count": 3,
   "metadata": {},
   "outputs": [
    {
     "name": "stdout",
     "output_type": "stream",
     "text": [
      "notice(2): Group \"all\" created containing 15625 particles\n"
     ]
    }
   ],
   "source": [
    "hoomd.init.create_lattice(unitcell=hoomd.lattice.sc(a=5.0), n=25);"
   ]
  },
  {
   "cell_type": "code",
   "execution_count": 4,
   "metadata": {},
   "outputs": [],
   "source": [
    "nl = hoomd.md.nlist.cell();"
   ]
  },
  {
   "cell_type": "code",
   "execution_count": 5,
   "metadata": {},
   "outputs": [],
   "source": [
    "lj = hoomd.md.pair.lj(r_cut=20, nlist=nl)"
   ]
  },
  {
   "cell_type": "code",
   "execution_count": 6,
   "metadata": {},
   "outputs": [],
   "source": [
    "lj.pair_coeff.set('A', 'A', epsilon=0.2381, sigma=3.405)"
   ]
  },
  {
   "cell_type": "code",
   "execution_count": 7,
   "metadata": {},
   "outputs": [],
   "source": [
    "hoomd.md.integrate.mode_standard(dt=0.005);"
   ]
  },
  {
   "cell_type": "code",
   "execution_count": 8,
   "metadata": {
    "scrolled": false
   },
   "outputs": [
    {
     "name": "stdout",
     "output_type": "stream",
     "text": [
      "notice(2): integrate.langevin/bd is using specified gamma values\n"
     ]
    }
   ],
   "source": [
    "all = hoomd.group.all();\n",
    "hoomd.md.integrate.langevin(group=all, kT=0.2, seed=42);"
   ]
  },
  {
   "cell_type": "code",
   "execution_count": 9,
   "metadata": {},
   "outputs": [],
   "source": [
    "hoomd.analyze.log(filename=\"log-output.log\",\n",
    "                  quantities=['potential_energy', 'temperature'],\n",
    "                  period=100,\n",
    "                  overwrite=True);"
   ]
  },
  {
   "cell_type": "code",
   "execution_count": 10,
   "metadata": {},
   "outputs": [],
   "source": [
    "hoomd.dump.gsd(\"trajectory.gsd\", period=2e3, group=all, overwrite=True);\n"
   ]
  },
  {
   "cell_type": "code",
   "execution_count": 11,
   "metadata": {
    "scrolled": true
   },
   "outputs": [
    {
     "name": "stdout",
     "output_type": "stream",
     "text": [
      "notice(2): -- Neighborlist exclusion statistics -- :\n",
      "notice(2): Particles with 0 exclusions             : 15625\n",
      "notice(2): Neighbors included by diameter          : no\n",
      "notice(2): Neighbors excluded when in the same body: no\n",
      "** starting run **\n",
      "Time 00:00:15 | Step 174 / 10000 | TPS 16.9708 | ETA 00:09:38\n",
      "Time 00:00:25 | Step 352 / 10000 | TPS 17.7611 | ETA 00:09:03\n",
      "Time 00:00:35 | Step 527 / 10000 | TPS 17.4368 | ETA 00:09:03\n",
      "Time 00:00:45 | Step 701 / 10000 | TPS 17.2888 | ETA 00:08:57\n",
      "Time 00:00:55 | Step 879 / 10000 | TPS 17.7819 | ETA 00:08:32\n",
      "Time 00:01:06 | Step 1052 / 10000 | TPS 17.2571 | ETA 00:08:38\n",
      "Time 00:01:16 | Step 1226 / 10000 | TPS 17.3497 | ETA 00:08:25\n",
      "Time 00:01:26 | Step 1398 / 10000 | TPS 17.1563 | ETA 00:08:21\n",
      "Time 00:01:36 | Step 1572 / 10000 | TPS 17.3232 | ETA 00:08:06\n",
      "Time 00:01:46 | Step 1743 / 10000 | TPS 17.0455 | ETA 00:08:04\n",
      "Time 00:01:56 | Step 1914 / 10000 | TPS 17.0726 | ETA 00:07:53\n",
      "Time 00:02:06 | Step 2092 / 10000 | TPS 17.3955 | ETA 00:07:34\n",
      "Time 00:02:16 | Step 2267 / 10000 | TPS 17.4964 | ETA 00:07:21\n",
      "Time 00:02:26 | Step 2438 / 10000 | TPS 17.0647 | ETA 00:07:23\n",
      "Time 00:02:36 | Step 2601 / 10000 | TPS 16.0905 | ETA 00:07:39\n",
      "Time 00:02:46 | Step 2777 / 10000 | TPS 17.5508 | ETA 00:06:51\n",
      "Time 00:02:56 | Step 2941 / 10000 | TPS 16.3025 | ETA 00:07:13\n",
      "Time 00:03:06 | Step 3112 / 10000 | TPS 17.0553 | ETA 00:06:43\n",
      "Time 00:03:16 | Step 3280 / 10000 | TPS 16.791 | ETA 00:06:40\n",
      "Time 00:03:26 | Step 3456 / 10000 | TPS 17.5272 | ETA 00:06:13\n",
      "Time 00:03:36 | Step 3629 / 10000 | TPS 17.2637 | ETA 00:06:09\n",
      "Time 00:03:46 | Step 3796 / 10000 | TPS 16.6671 | ETA 00:06:12\n",
      "Time 00:03:56 | Step 3971 / 10000 | TPS 17.4712 | ETA 00:05:45\n",
      "Time 00:04:06 | Step 4142 / 10000 | TPS 16.7692 | ETA 00:05:49\n",
      "Time 00:04:17 | Step 4312 / 10000 | TPS 16.9358 | ETA 00:05:35\n",
      "Time 00:04:27 | Step 4489 / 10000 | TPS 17.6844 | ETA 00:05:11\n",
      "Time 00:04:37 | Step 4643 / 10000 | TPS 15.3347 | ETA 00:05:49\n",
      "Time 00:04:47 | Step 4809 / 10000 | TPS 16.5862 | ETA 00:05:12\n",
      "Time 00:04:57 | Step 4984 / 10000 | TPS 17.4296 | ETA 00:04:47\n",
      "Time 00:05:07 | Step 5158 / 10000 | TPS 17.3329 | ETA 00:04:39\n",
      "Time 00:05:17 | Step 5335 / 10000 | TPS 17.6723 | ETA 00:04:23\n",
      "Time 00:05:27 | Step 5503 / 10000 | TPS 16.761 | ETA 00:04:28\n",
      "Time 00:05:37 | Step 5665 / 10000 | TPS 16.1361 | ETA 00:04:28\n",
      "Time 00:05:47 | Step 5822 / 10000 | TPS 15.6739 | ETA 00:04:26\n",
      "Time 00:05:57 | Step 5999 / 10000 | TPS 17.6805 | ETA 00:03:46\n",
      "Time 00:06:07 | Step 6167 / 10000 | TPS 16.7882 | ETA 00:03:48\n",
      "Time 00:06:17 | Step 6343 / 10000 | TPS 17.5759 | ETA 00:03:28\n",
      "Time 00:06:27 | Step 6516 / 10000 | TPS 17.2547 | ETA 00:03:21\n",
      "Time 00:06:37 | Step 6690 / 10000 | TPS 17.3852 | ETA 00:03:10\n",
      "Time 00:06:47 | Step 6858 / 10000 | TPS 16.3633 | ETA 00:03:12\n",
      "Time 00:06:57 | Step 7020 / 10000 | TPS 16.1856 | ETA 00:03:04\n",
      "Time 00:07:07 | Step 7193 / 10000 | TPS 17.0955 | ETA 00:02:44\n",
      "Time 00:07:17 | Step 7366 / 10000 | TPS 17.2411 | ETA 00:02:32\n",
      "Time 00:07:27 | Step 7534 / 10000 | TPS 16.7771 | ETA 00:02:26\n",
      "Time 00:07:37 | Step 7701 / 10000 | TPS 16.4432 | ETA 00:02:19\n",
      "Time 00:07:48 | Step 7882 / 10000 | TPS 17.6576 | ETA 00:01:59\n",
      "Time 00:07:58 | Step 8058 / 10000 | TPS 17.5313 | ETA 00:01:50\n",
      "Time 00:08:08 | Step 8222 / 10000 | TPS 16.3335 | ETA 00:01:48\n",
      "Time 00:08:18 | Step 8396 / 10000 | TPS 17.1593 | ETA 00:01:33\n",
      "Time 00:08:28 | Step 8566 / 10000 | TPS 16.9827 | ETA 00:01:24\n",
      "Time 00:08:38 | Step 8741 / 10000 | TPS 17.3374 | ETA 00:01:12\n",
      "Time 00:08:48 | Step 8910 / 10000 | TPS 16.8739 | ETA 00:01:04\n",
      "Time 00:08:58 | Step 9081 / 10000 | TPS 17.0803 | ETA 00:00:53\n",
      "Time 00:09:08 | Step 9257 / 10000 | TPS 17.5578 | ETA 00:00:42\n",
      "Time 00:09:18 | Step 9422 / 10000 | TPS 16.3305 | ETA 00:00:35\n",
      "Time 00:09:28 | Step 9598 / 10000 | TPS 17.5641 | ETA 00:00:22\n",
      "Time 00:09:38 | Step 9758 / 10000 | TPS 15.9977 | ETA 00:00:15\n",
      "Time 00:09:48 | Step 9940 / 10000 | TPS 17.7357 | ETA 00:00:03\n",
      "Time 00:09:51 | Step 10000 / 10000 | TPS 19.5931 | ETA 00:00:00\n",
      "Average TPS: 17.054\n",
      "---------\n",
      "-- Neighborlist stats:\n",
      "475 normal updates / 100 forced updates / 0 dangerous updates\n",
      "n_neigh_min: 0 / n_neigh_max: 286 / n_neigh_avg: 141.475\n",
      "shortest rebuild period: 14\n",
      "-- Cell list stats:\n",
      "Dimension: 6, 6, 6\n",
      "n_min    : 52 / n_max: 98 / n_avg: 72.338\n",
      "** run complete **\n"
     ]
    }
   ],
   "source": [
    "hoomd.run(1e4);"
   ]
  },
  {
   "cell_type": "code",
   "execution_count": 12,
   "metadata": {},
   "outputs": [],
   "source": [
    "import numpy\n",
    "from matplotlib import pyplot\n",
    "%matplotlib inline\n",
    "data = numpy.genfromtxt(fname='log-output.log', skip_header=True);"
   ]
  },
  {
   "cell_type": "code",
   "execution_count": 13,
   "metadata": {},
   "outputs": [
    {
     "data": {
      "image/png": "[encoded data removed]",
      "text/plain": [
       "<Figure size 560x308 with 1 Axes>"
      ]
     },
     "metadata": {
      "needs_background": "light"
     },
     "output_type": "display_data"
    }
   ],
   "source": [
    "pyplot.figure(figsize=(4,2.2), dpi=140);\n",
    "pyplot.plot(data[:,0], data[:,1]);\n",
    "pyplot.xlabel('time step');\n",
    "pyplot.ylabel('potential_energy');\n"
   ]
  },
  {
   "cell_type": "code",
   "execution_count": 14,
   "metadata": {},
   "outputs": [
    {
     "data": {
      "image/png": "[encoded data removed]",
      "text/plain": [
       "<Figure size 560x308 with 1 Axes>"
      ]
     },
     "metadata": {
      "needs_background": "light"
     },
     "output_type": "display_data"
    }
   ],
   "source": [
    "pyplot.figure(figsize=(4,2.2), dpi=140);\n",
    "pyplot.plot(data[:,0], data[:,2]);\n",
    "pyplot.xlabel('time step');\n",
    "pyplot.ylabel('temperature');\n"
   ]
  },
  {
   "cell_type": "code",
   "execution_count": null,
   "metadata": {},
   "outputs": [],
   "source": []
  }
 ],
 "metadata": {
  "kernelspec": {
   "display_name": "Python 3",
   "language": "python",
   "name": "python3"
  },
  "language_info": {
   "codemirror_mode": {
    "name": "ipython",
    "version": 3
   },
   "file_extension": ".py",
   "mimetype": "text/x-python",
   "name": "python",
   "nbconvert_exporter": "python",
   "pygments_lexer": "ipython3",
   "version": "3.7.3"
  }
 },
 "nbformat": 4,
 "nbformat_minor": 2
}
