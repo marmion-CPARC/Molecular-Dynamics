{
 "cells": [
  {
   "cell_type": "code",
   "execution_count": null,
   "metadata": {
    "scrolled": true
   },
   "outputs": [],
   "source": [
    "import hoomd\n",
    "import hoomd.md\n",
    "import sys\n",
    "import gsd\n",
    "import gsd.hoomd\n",
    "import hoomd.md.bond\n",
    "import mbuild as mb\n",
    "hoomd.context.initialize(\"/home/cphollarbush/mbuild.gsd\")\n",
    "\n",
    "#imports all the necessary modules, so we can actually use them\n",
    "#hoomd is the overarching engine; hoomd.md is the molecular dynamics portion of hoomd; sys allows us to use system commands; gsd and gsd.hoomd are needed to work with gsd files; hoomd.md.bond allows us to work with bond data\n",
    "#hoomd.context.initialize gets the system up and running for use"
   ]
  },
  {
   "cell_type": "code",
   "execution_count": null,
   "metadata": {
    "scrolled": false
   },
   "outputs": [],
   "source": [
    "#box = mb.load(\"/home/cphollarbush/Avo_atoms/airhcn1.pdb\")\n",
    "#box.save(\"/home/cphollarbush/Avo_atoms/airhcn1.gsd\")\n",
    "#print(\"it worked!\")\n",
    "\n",
    "#'translates' the pdb file into a gsd so hoomd can read it"
   ]
  },
  {
   "cell_type": "code",
   "execution_count": null,
   "metadata": {
    "scrolled": false
   },
   "outputs": [],
   "source": [
    "system = hoomd.init.read_gsd(\"/home/cphollarbush/mbuild.gsd\")\n",
    "\n",
    "#creates a system which is comprised of whatever is in the gsd\n",
    "#the file is the one with ATOM instead of HETAM"
   ]
  },
  {
   "cell_type": "code",
   "execution_count": null,
   "metadata": {
    "scrolled": true
   },
   "outputs": [],
   "source": [
    "nl = hoomd.md.nlist.cell();\n",
    "\n",
    "#tells hoomd to calculate forces only in a certain proximity; saves computer power w/o reducing accuracy"
   ]
  },
  {
   "cell_type": "code",
   "execution_count": null,
   "metadata": {},
   "outputs": [],
   "source": [
    "lj = hoomd.md.pair.lj(r_cut=1.5, nlist=nl);\n",
    "\n",
    "#tells hoomd we're using LJ equations\n",
    "#sets the nlist radius at 2.5 angstroms"
   ]
  },
  {
   "cell_type": "code",
   "execution_count": null,
   "metadata": {},
   "outputs": [],
   "source": [
    "lj.pair_coeff.set('N','N', epsilon=1.0, sigma=1.0);\n",
    "lj.pair_coeff.set('N','0', epsilon=1.0, sigma=1.0);\n",
    "lj.pair_coeff.set('N','AR', epsilon=1.0, sigma=1.0);\n",
    "lj.pair_coeff.set('N','H', epsilon=1.0, sigma=1.0);\n",
    "lj.pair_coeff.set('N','C', epsilon=1.0, sigma=1.0);\n",
    "\n",
    "lj.pair_coeff.set('O','O', epsilon=1.0, sigma=1.0);\n",
    "lj.pair_coeff.set('O','AR', epsilon=1.0, sigma=1.0);\n",
    "lj.pair_coeff.set('O','C', epsilon=1.0, sigma=1.0);\n",
    "lj.pair_coeff.set('O','H', epsilon=1.0, sigma=1.0);\n",
    "\n",
    "lj.pair_coeff.set('AR','AR', epsilon=1.0, sigma=1.0);\n",
    "lj.pair_coeff.set('AR','H', epsilon=1.0, sigma=1.0);\n",
    "lj.pair_coeff.set('AR','N', epsilon=1.0, sigma=1.0);\n",
    "lj.pair_coeff.set('AR','C', epsilon=1.0, sigma=1.0);\n",
    "\n",
    "lj.pair_coeff.set('H','C', epsilon=1.0, sigma=1.0);\n",
    "lj.pair_coeff.set('H','H', epsilon=1.0, sigma=1.0);\n",
    "lj.pair_coeff.set('C','N', epsilon=1.0, sigma=1.0);\n",
    "lj.pair_coeff.set('C','C', epsilon=1.0, sigma=1.0);\n",
    "lj.pair_coeff.set('N','O', epsilon=1.0, sigma=1.0);\n",
    "\n",
    "#data for the LJ forces in the sim\n",
    "#will replace demo epsilon and sigma values with actual values once simulation runs"
   ]
  },
  {
   "cell_type": "code",
   "execution_count": null,
   "metadata": {},
   "outputs": [],
   "source": [
    "#'N' = 1\n",
    "#'O' = 2\n",
    "#\"H\" = 3\n",
    "#\"C\" = 4\n",
    "\n",
    "#attempting to name each type of atom in hopes that it will allow us to create bonds"
   ]
  },
  {
   "cell_type": "code",
   "execution_count": null,
   "metadata": {},
   "outputs": [],
   "source": [
    "all = hoomd.group.all();\n",
    "\n",
    "#makes it easier for us to group all particles together"
   ]
  },
  {
   "cell_type": "code",
   "execution_count": null,
   "metadata": {
    "scrolled": true
   },
   "outputs": [],
   "source": [
    "#system.bonds.add(\"NN\", 1, 1)\n",
    "#system.bonds.add(\"OO\", 2, 2)\n",
    "#system.bonds.add(\"HC\", 3, 4)\n",
    "#system.bonds.add(\"CN\", 4, 1)\n",
    "\n",
    "#attempting to add bonds\n",
    "#name in red and particlescomprised of in green. see above for relationship between number and particle type"
   ]
  },
  {
   "cell_type": "code",
   "execution_count": null,
   "metadata": {
    "scrolled": true
   },
   "outputs": [],
   "source": [
    "hoomd.md.integrate.mode_standard(dt=.1) \n",
    "\n",
    "integrator = hoomd.md.integrate.npt(group=all, kT=2.49433795843, tau=138.08, tauP=1.0, P=2.0) \n",
    "\n",
    "integrator.randomize_velocities(seed=42)\n",
    "\n",
    "#setting up integrator\n",
    "#integrator takes in data: kT, tau, tauP\n",
    "#randomize velocities is what uses the integrator + its data then assigns velocities\n",
    "\n",
    "#will replace demo values with actual values once simulation runs"
   ]
  },
  {
   "cell_type": "code",
   "execution_count": null,
   "metadata": {
    "scrolled": true
   },
   "outputs": [],
   "source": [
    "fene = hoomd.md.bond.fene();\n",
    "fene.bond_coeff.set('N-N', k=30.0, r0=1.5, sigma=1.0, epsilon= 2.0);\n",
    "fene.bond_coeff.set('O-O', k=30.0, r0=1.5, sigma=1.0, epsilon= 2.0);\n",
    "fene.bond_coeff.set('C-H', k=30.0, r0=1.5, sigma=1.0, epsilon= 2.0);\n",
    "fene.bond_coeff.set('C-N', k=30.0, r0=1.5, sigma=1.0, epsilon= 2.0);\n",
    "\n",
    "#attempt to specify bond forces\n",
    "#will replace demo values with actual values once simulation runs"
   ]
  },
  {
   "cell_type": "code",
   "execution_count": null,
   "metadata": {
    "scrolled": true
   },
   "outputs": [],
   "source": [
    "hoomd.run(1e4);\n",
    "\n",
    "#what is actually used to run the simulation"
   ]
  },
  {
   "cell_type": "code",
   "execution_count": null,
   "metadata": {},
   "outputs": [],
   "source": [
    "snapshot = system.take_snapshot(particles=True, bonds=True, pairs=False, integrators=True, all=True, dtype='float')\n",
    "\n",
    "#snapshot takes a \"picture\" of one time step of the simulation which can be used for analysis of all the above data types in parentheses"
   ]
  },
  {
   "cell_type": "code",
   "execution_count": null,
   "metadata": {
    "scrolled": true
   },
   "outputs": [],
   "source": [
    "print(snapshot.particles.velocity)\n",
    "#our method of checking to see if the integrator worked and the particles have velocities"
   ]
  },
  {
   "cell_type": "code",
   "execution_count": null,
   "metadata": {},
   "outputs": [],
   "source": [
    "all = hoomd.group.all();\n",
    "hoomd.dump.gsd(filename=\"/home/cphollarbush/Avo_atoms/trajectory.gsd\", period=10, group = all, phase=0)\n",
    "#save(filename=\"trajectory.gsd\"/home/cphollarbush/Avo_atoms/trajectory.gsd)\n",
    "\n",
    "#takes the simulation and creates a file with all the data in it\n",
    "#saves that file to the location we designate"
   ]
  },
  {
   "cell_type": "code",
   "execution_count": null,
   "metadata": {},
   "outputs": [],
   "source": []
  }
 ],
 "metadata": {
  "kernelspec": {
   "display_name": "Python 3",
   "language": "python",
   "name": "python3"
  },
  "language_info": {
   "codemirror_mode": {
    "name": "ipython",
    "version": 3
   },
   "file_extension": ".py",
   "mimetype": "text/x-python",
   "name": "python",
   "nbconvert_exporter": "python",
   "pygments_lexer": "ipython3",
   "version": "3.6.8"
  }
 },
 "nbformat": 4,
 "nbformat_minor": 2
}
